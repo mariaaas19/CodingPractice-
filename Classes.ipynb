{
 "cells": [
  {
   "cell_type": "markdown",
   "metadata": {},
   "source": [
    "# Creating Classes in Python"
   ]
  },
  {
   "cell_type": "markdown",
   "metadata": {},
   "source": [
    "What is a class?\n",
    "\n",
    "A class basically defines the different attributes that an object has\n",
    "\n",
    "Why are classes useful?\n",
    "\n",
    "As Python is an object oriented program, objects are used alot.\n",
    "The use of classess in python help to keep your code organised \n",
    "\n",
    "Class Terminology\n",
    "Variables --> Attributes\n",
    "Functions --> Methods\n",
    "    "
   ]
  },
  {
   "cell_type": "code",
   "execution_count": 1,
   "metadata": {},
   "outputs": [],
   "source": [
    "# classes cannot be kept empty as an error will be returned\n",
    "# so the pass statement can be used to avoid an error\n",
    "\n",
    "# example of an empty class\n",
    "class coffee:\n",
    "    pass"
   ]
  },
  {
   "cell_type": "code",
   "execution_count": 27,
   "metadata": {},
   "outputs": [],
   "source": [
    "# defining the class\n",
    "class coffee:\n",
    "    \n",
    "    def __init__(self,name,milk_type):\n",
    "        self.name = name\n",
    "        self.milk_type = milk_type\n",
    "    \n",
    "    def is_vegan(self):\n",
    "        if self.milk_type == \"Whole\":\n",
    "            return False\n",
    "        elif self.milk_type == \"Almond\":\n",
    "            return True"
   ]
  },
  {
   "cell_type": "markdown",
   "metadata": {},
   "source": [
    "- The init method is the constructor of the class \n",
    "- The self parameter is used to reference the current \n",
    "  instance of the class which allows it to access variables   that belong to the class \n",
    "  (Note: The word self is just used as convention, it would   work with any word)"
   ]
  },
  {
   "cell_type": "code",
   "execution_count": 28,
   "metadata": {},
   "outputs": [],
   "source": [
    "# creating objects in the class\n",
    "coffee_1 = coffee(\"Cappuccino\", \"Whole\")\n",
    "coffee_2 = coffee(\"Latte\", \"Almond\")"
   ]
  },
  {
   "cell_type": "code",
   "execution_count": 29,
   "metadata": {},
   "outputs": [
    {
     "name": "stdout",
     "output_type": "stream",
     "text": [
      "Whole\n"
     ]
    }
   ],
   "source": [
    "# to test if the properties of the coffees have been assigned\n",
    "print(coffee_1.milk_type)"
   ]
  },
  {
   "cell_type": "code",
   "execution_count": 30,
   "metadata": {},
   "outputs": [
    {
     "name": "stdout",
     "output_type": "stream",
     "text": [
      "False\n",
      "True\n"
     ]
    }
   ],
   "source": [
    "# running the vegan check\n",
    "is_coffee1_vegan = coffee_1.is_vegan()\n",
    "print(is_coffee1_vegan)\n",
    "is_coffee2_vegan = coffee_2.is_vegan()\n",
    "print(is_coffee2_vegan)"
   ]
  },
  {
   "cell_type": "markdown",
   "metadata": {},
   "source": [
    "Useful Links:\n",
    "https://www.programiz.com/python-programming/class\n",
    "https://www.w3schools.com/python/python_classes.asp"
   ]
  }
 ],
 "metadata": {
  "kernelspec": {
   "display_name": "Python 3",
   "language": "python",
   "name": "python3"
  },
  "language_info": {
   "codemirror_mode": {
    "name": "ipython",
    "version": 3
   },
   "file_extension": ".py",
   "mimetype": "text/x-python",
   "name": "python",
   "nbconvert_exporter": "python",
   "pygments_lexer": "ipython3",
   "version": "3.8.3"
  }
 },
 "nbformat": 4,
 "nbformat_minor": 4
}
